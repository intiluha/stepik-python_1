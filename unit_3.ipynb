{
 "cells": [
  {
   "cell_type": "code",
   "execution_count": 2,
   "metadata": {},
   "outputs": [],
   "source": [
    "import requests"
   ]
  },
  {
   "cell_type": "code",
   "execution_count": 40,
   "metadata": {},
   "outputs": [
    {
     "name": "stdout",
     "output_type": "stream",
     "text": [
      "67\n",
      "Montag looked at the cards in his own hands. \"I -- I've been thinking. About the fire last week.  About the man whose library we fixed. What happened to him?\"\n",
      "\n",
      "\"They took him screaming off to the asylum.\"\n",
      "\n",
      "\"He wasn't insane.\"\n",
      "\n",
      "Beatty arranged his cards quietly. \"Any man's insane who thinks he can fool the government and us.\"\n",
      "\n",
      "\"I've tried to imagine,\" said Montag, \"just how it would feel. I mean, to have firemen burn our houses and our books.\"\n",
      "\n",
      "\"We haven't any books.\"\n",
      "\n",
      "\"But if we did have some.\"\n",
      "\n",
      "\"You got some?\"\n",
      "\n",
      "Beatty blinked slowly.\n",
      "\n",
      "\"No.\" Montag gazed beyond them to the wall with the typed lists of a million forbidden books. Their names leapt in fire, burning down the years under his ax and his hose which sprayed not water but kerosene. \"No.\" But in his mind, a cool wind started up and blew out of the ventilator grille at home, softly, softly, chilling his face. And, again, he saw himself in a green park talking to an old man, a very old man, and the wind from the park was cold, too.\n",
      "\n",
      "Montag hesitated. \"Was -- was it always like this?  The firehouse, our work? I mean, well, once upon a  time ...\"\n",
      "\n",
      "\"Once upon a time!\" Beatty said. \"What kind of talk is that?\"\n",
      "\n",
      "Fool, thought Montag to himself, you'll give it away. At the last fire, a book of fairy tales, he'd  glanced at a single line. \"I mean,\" he said, \"in the old days, before homes were completely fireproofed --\"  Suddenly it seemed a much younger voice was speaking for him. He opened his mouth and it was Clarisse McClellan saying, \"Didn't firemen prevent fires rather than stoke them up and get them going?\"\n",
      "\n",
      "\"That's rich!\" Stoneman and Black drew forth their rule books, which also contained brief histories of the Firemen of America, and laid them out where Montag, though long familiar with them, might read:\n",
      "\n",
      "Established, 1790, to burn English-influenced books in the Colonies. First Fireman: Benjamin Franklin.\n",
      "\n",
      "RULE 1. Answer the alarm swiftly. \n",
      "2. Start the fire swiftly. \n",
      "3. Burn everything. \n",
      "4. Report back to firehouse immediately. \n",
      "5. Stand alert for other alarms.\n",
      "\n",
      "Everyone watched Montag. He did not move.\n",
      "\n",
      "The alarm sounded.\n",
      "\n",
      "The bell in the ceiling kicked itself two hundred times. Suddenly there were four empty chairs. The cards fell in a flurry of snow. The brass pole shivered.  The men were gone.\n",
      "\n",
      "Montag sat in his chair. Below, the orange dragon coughed to life.\n",
      "\n",
      "Montag slid down the pole like a man in a dream. The Mechanical Hound leapt up in its kennel, its eyes all green flame.\n",
      "\n",
      "\"Montag, you forgot your helmet!\"\n",
      "\n",
      "He seized it off the wall behind him, ran, leapt, and they were off, the night wind hammering about their siren scream and their mighty metal thunder!\n",
      "\n",
      "***\n",
      "\n",
      "It was a flaking three-story house in the ancient part of the city, a century old if it was a day, but like all houses it had been given a thin fireproof plastic sheath many years ago, and this preservative shell seemed to be the only thing holding it in the sky.\n",
      "\n",
      "\"Here we are!\"\n",
      "\n",
      "The engine slammed to a stop. Beatty, Stoneman, and Black ran up the sidewalk, suddenly odious and fat in their plump fireproof slickers. Montag followed.\n",
      "\n",
      "They crashed the front door and grabbed at a woman, though she was not running, she was not trying to escape. She was only standing, weaving from side to side, her eyes fixed upon a nothingness in the wall, as if they had struck her a terrible blow upon the head. Her tongue was moving in her mouth, and her eyes seemed to be trying to remember something and then they remembered and her tongue moved again:\n",
      "\n",
      "\"'Play the man, Master Ridley; we shall this day light such a candle, by God's grace, in England, as I trust shall never be put out.'\"\n",
      "\n",
      "\"Enough of that!\" said Beatty. \"Where are they?\"\n",
      "\n",
      "He slapped her face with amazing objectivity and repeated the question. The old woman's eyes came to a focus upon Beatty. \"You know where they are or you wouldn't be here,\" she said.\n",
      "\n",
      "Stoneman held out the telephone alarm card with the complaint signed in telephone duplicate on the back:\n",
      "\n",
      "https://stepic.org/media/attachments/course67/3.6.2/989.txt\n"
     ]
    }
   ],
   "source": [
    "# 3.6.2\n",
    "\n",
    "r = requests.get('https://stepic.org/media/attachments/course67/3.6.2/989.txt')\n",
    "print(len(r.text.splitlines()))\n",
    "print(r.text)\n",
    "print(r.url)"
   ]
  },
  {
   "cell_type": "code",
   "execution_count": 43,
   "metadata": {},
   "outputs": [
    {
     "name": "stdout",
     "output_type": "stream",
     "text": [
      "699991.txt 213837.txt 396639.txt 835329.txt 344063.txt 194307.txt 195211.txt 769171.txt 153554.txt 680916.txt 335636.txt 935728.txt 081303.txt 792633.txt 668368.txt 647731.txt 904392.txt 684563.txt 997337.txt 329467.txt 366219.txt 730037.txt 310230.txt 104249.txt 382504.txt 433681.txt 507359.txt 293649.txt 011641.txt 717942.txt 258080.txt 569395.txt 756825.txt 921388.txt 437007.txt 004090.txt 362705.txt 145282.txt 990216.txt 645783.txt 451262.txt 193295.txt 777343.txt 324603.txt 888934.txt 138655.txt 818396.txt 290594.txt 478003.txt 276687.txt 703763.txt 712469.txt 064418.txt 246033.txt 356768.txt 504290.txt 629914.txt 062456.txt 658472.txt 037659.txt 351978.txt 523822.txt 653493.txt 859227.txt 878358.txt 944504.txt 457602.txt 548571.txt 090976.txt 965991.txt 138128.txt 255843.txt 797598.txt 640003.txt 789435.txt 181382.txt 590526.txt 430513.txt 182774.txt 924794.txt 998193.txt 770039.txt 619504.txt 098137.txt 874234.txt 476929.txt 254654.txt 972817.txt 183249.txt 231788.txt 238807.txt 775176.txt 332055.txt 971266.txt 641342.txt 377648.txt 665641.txt 120842.txt 435728.txt 860507.txt 845049.txt 103662.txt 989375.txt 949525.txt 622807.txt 441279.txt 252484.txt 595082.txt 942502.txt 544418.txt 242071.txt 696203.txt 470997.txt 858079.txt 299971.txt 474312.txt 202815.txt 192361.txt 036087.txt 208836.txt 057270.txt 414940.txt 685551.txt 877276.txt 183839.txt 681194.txt 268115.txt 850395.txt 841311.txt 318124.txt 502298.txt 870820.txt 886554.txt 874723.txt 785247.txt 743951.txt 893121.txt 493592.txt 043302.txt 512901.txt 455422.txt 405792.txt 223561.txt 711048.txt 986818.txt 919305.txt 673023.txt 195915.txt 113918.txt 829948.txt 407495.txt 799448.txt 455591.txt 046533.txt 895838.txt 203749.txt 897513.txt 023903.txt 639854.txt 767954.txt 483260.txt 305657.txt 113973.txt 569665.txt 811640.txt 627996.txt 555691.txt 126531.txt 434239.txt 812997.txt 012540.txt 457171.txt 809767.txt 113083.txt 168190.txt 105218.txt 426930.txt 839383.txt 318610.txt 727580.txt 966169.txt 633699.txt 933699.txt 254907.txt 277257.txt 105289.txt 618947.txt 788422.txt 598850.txt 218724.txt 855788.txt 414896.txt 086361.txt 259720.txt 864746.txt 213015.txt 706951.txt 790699.txt 556965.txt 843911.txt 824452.txt 558623.txt 299517.txt 204151.txt 864178.txt 001410.txt 268784.txt 413917.txt 258819.txt 694433.txt 376424.txt 198564.txt 228068.txt 417050.txt 453058.txt 182986.txt 237570.txt 680981.txt 865546.txt 367559.txt 122687.txt 783680.txt 626200.txt 953943.txt 009102.txt 882919.txt 984198.txt 867571.txt 889641.txt 223919.txt 748056.txt 577611.txt 749540.txt 536080.txt 351770.txt 968708.txt 311090.txt 239129.txt 312237.txt 053569.txt 678528.txt 767429.txt 095729.txt 452488.txt 798915.txt 426191.txt 067336.txt 949017.txt 987573.txt 843785.txt \n",
      "We are the champions, my friends,\n",
      "And we'll keep on fighting 'til the end.\n",
      "We are the champions.\n",
      "We are the champions.\n",
      "No time for losers\n",
      "'Cause we are the champions of the world.\n"
     ]
    }
   ],
   "source": [
    "# 3.6.3\n",
    "\n",
    "directory = 'https://stepic.org/media/attachments/course67/3.6.3/'\n",
    "file = '699991.txt'\n",
    "while file[-3:] == 'txt':\n",
    "    print(file, end=' ')\n",
    "    file = requests.get(directory + file).text\n",
    "print('\\n' + file)"
   ]
  },
  {
   "cell_type": "code",
   "execution_count": 44,
   "metadata": {},
   "outputs": [
    {
     "name": "stdout",
     "output_type": "stream",
     "text": [
      "3\n",
      "Спартак;9;Зенит;10\n",
      "Локомотив;12;Зенит;3\n",
      "Спартак;8;Локомотив;15\n",
      "Спартак:2 0 0 2 0\n",
      "Зенит:2 1 0 1 3\n",
      "Локомотив:2 2 0 0 6\n"
     ]
    }
   ],
   "source": [
    "# 3.7.1\n",
    "\n",
    "n = int(input())\n",
    "D = dict()\n",
    "for i in range(n):\n",
    "    match = input().split(';')\n",
    "    # add absent teams to the dict\n",
    "    t1, t2 = match[0], match[2]\n",
    "    for team in [t1, t2]:\n",
    "        if team not in D:\n",
    "            D[team] = {'w':0, 'd':0, 'l':0}\n",
    "    # take match results into account\n",
    "    g1, g2 = int(match[1]), int(match[3])\n",
    "    if g1 > g2:\n",
    "        D[t1]['w'] += 1\n",
    "        D[t2]['l'] += 1\n",
    "    elif g1 == g2:\n",
    "        D[t1]['d'] += 1\n",
    "        D[t2]['d'] += 1\n",
    "    else:\n",
    "        D[t1]['l'] += 1\n",
    "        D[t2]['w'] += 1\n",
    "\n",
    "for team in D:\n",
    "    print(team + ':', end='')\n",
    "    print(D[team]['w'] + D[team]['d'] + D[team]['l'], D[team]['w'], \n",
    "          D[team]['d'], D[team]['l'], 3 * D[team]['w'] + D[team]['d'])"
   ]
  },
  {
   "cell_type": "code",
   "execution_count": 2,
   "metadata": {},
   "outputs": [
    {
     "name": "stdout",
     "output_type": "stream",
     "text": [
      "123\n",
      "qwe\n",
      "31211231\n",
      "qweqwqqweqweqwqwww\n",
      "eqwqqweq\n",
      "123121123123121222\n"
     ]
    }
   ],
   "source": [
    "# 3.7.2\n",
    "\n",
    "alph1, alph2 = input(), input()\n",
    "msg1, msg2 = input(), input()\n",
    "ans1, ans2 = [], []\n",
    "\n",
    "for c in msg1:\n",
    "    ans1.append(alph2[alph1.find(c)])\n",
    "for c in msg2:\n",
    "    ans2.append(alph1[alph2.find(c)])\n",
    "    \n",
    "print(''.join(ans1))\n",
    "print(''.join(ans2))"
   ]
  },
  {
   "cell_type": "code",
   "execution_count": 3,
   "metadata": {},
   "outputs": [
    {
     "name": "stdout",
     "output_type": "stream",
     "text": [
      "2\n",
      "a\n",
      "weqw\n",
      "1\n",
      "a qweq A weQW ds\n",
      "qweq\n",
      "ds\n"
     ]
    }
   ],
   "source": [
    "# 3.7.3\n",
    "\n",
    "d = int(input())\n",
    "Words = []\n",
    "for i in range(d):\n",
    "    Words.append(input().lower())\n",
    "    \n",
    "n = int(input())\n",
    "mistakes = set()\n",
    "for i in range(n):\n",
    "    for w in input().lower().split():\n",
    "        if w not in Words:\n",
    "            mistakes.add(w)\n",
    "\n",
    "print('\\n'.join(mistakes))"
   ]
  },
  {
   "cell_type": "code",
   "execution_count": 4,
   "metadata": {},
   "outputs": [
    {
     "name": "stdout",
     "output_type": "stream",
     "text": [
      "1\n",
      "север 13\n",
      "0 13\n"
     ]
    }
   ],
   "source": [
    "# 3.7.4\n",
    "\n",
    "n = int(input())\n",
    "x, y = 0, 0\n",
    "for i in range(n):\n",
    "    direc, dist = input().split()\n",
    "    dist = int(dist)\n",
    "    if direc == 'север':\n",
    "        y += dist\n",
    "    elif direc == 'юг':\n",
    "        y -= dist\n",
    "    elif direc == 'запад':\n",
    "        x -= dist\n",
    "    else:\n",
    "        x += dist\n",
    "print(x, y)"
   ]
  },
  {
   "cell_type": "code",
   "execution_count": 1,
   "metadata": {},
   "outputs": [
    {
     "ename": "NameError",
     "evalue": "name 'mis' is not defined",
     "output_type": "error",
     "traceback": [
      "\u001b[0;31m---------------------------------------------------------------------------\u001b[0m",
      "\u001b[0;31mNameError\u001b[0m                                 Traceback (most recent call last)",
      "\u001b[0;32m<ipython-input-1-c81694523353>\u001b[0m in \u001b[0;36m<module>\u001b[0;34m\u001b[0m\n\u001b[0;32m----> 1\u001b[0;31m \u001b[0mmis\u001b[0m\u001b[0;34m\u001b[0m\u001b[0;34m\u001b[0m\u001b[0m\n\u001b[0m",
      "\u001b[0;31mNameError\u001b[0m: name 'mis' is not defined"
     ]
    }
   ],
   "source": []
  }
 ],
 "metadata": {
  "kernelspec": {
   "display_name": "Python 3",
   "language": "python",
   "name": "python3"
  },
  "language_info": {
   "codemirror_mode": {
    "name": "ipython",
    "version": 3
   },
   "file_extension": ".py",
   "mimetype": "text/x-python",
   "name": "python",
   "nbconvert_exporter": "python",
   "pygments_lexer": "ipython3",
   "version": "3.7.4"
  }
 },
 "nbformat": 4,
 "nbformat_minor": 4
}
